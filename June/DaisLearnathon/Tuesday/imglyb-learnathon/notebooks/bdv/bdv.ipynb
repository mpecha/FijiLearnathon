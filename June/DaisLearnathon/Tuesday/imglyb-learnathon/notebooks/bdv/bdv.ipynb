{
 "cells": [
  {
   "cell_type": "markdown",
   "metadata": {},
   "source": [
    "# BigDataViewer in imglyb"
   ]
  },
  {
   "cell_type": "code",
   "execution_count": 1,
   "metadata": {
    "collapsed": true
   },
   "outputs": [],
   "source": [
    "import h5py\n",
    "import numpy as np\n",
    "import os\n",
    "import pathlib\n",
    "import skimage.io\n",
    "import subprocess\n",
    "import tempfile\n",
    "import timeit\n",
    "import threading\n",
    "import time"
   ]
  },
  {
   "cell_type": "markdown",
   "metadata": {},
   "source": [
    "## imglyb imports\n",
    "An additional *tmp* directory within the classpath will allow us to compile Java code on the fly if we need fast pixel-wise method calls (see example below). "
   ]
  },
  {
   "cell_type": "code",
   "execution_count": 2,
   "metadata": {},
   "outputs": [],
   "source": [
    "tmp_dir = tempfile.mkdtemp()\n",
    "\n",
    "import jnius_config\n",
    "jnius_config.add_classpath( tmp_dir )\n",
    "\n",
    "import imglyb\n",
    "import imglyb.util as util\n",
    "\n",
    "from jnius import autoclass, PythonJavaClass, java_method, cast"
   ]
  },
  {
   "cell_type": "markdown",
   "metadata": {},
   "source": [
    "## Wait For BDV\n",
    "Python is not aware of any Java threads and -- if not run in interactive mode -- would exit even with an active BDV window open. The `bdv_exit_check` as defined below keeps a Python thread alive while BDV is running and prevents Python from exiting. This is not necessary for interactive sessions (e.g. IPython shell, notebook) but is still added for the purpose of demonstration."
   ]
  },
  {
   "cell_type": "code",
   "execution_count": 3,
   "metadata": {
    "collapsed": true
   },
   "outputs": [],
   "source": [
    "def bdv_exit_check( viewer, run_on_exit = lambda : print( \"Exited!\" ) ):\n",
    "\n",
    "    check = autoclass( 'net.imglib2.python.BdvWindowClosedCheck' )()\n",
    "    frame = cast( 'javax.swing.JFrame', autoclass( 'javax.swing.SwingUtilities' ).getWindowAncestor( viewer ) )\n",
    "    frame.addWindowListener( check )\n",
    "\n",
    "    def sleeper():\n",
    "        while check.isOpen():\n",
    "            time.sleep( 0.1 )\n",
    "        run_on_exit()\n",
    "\n",
    "    t = threading.Thread( target=sleeper )\n",
    "    t.start()"
   ]
  },
  {
   "cell_type": "markdown",
   "metadata": {},
   "source": [
    "## Multi-Channel vs ARGB"
   ]
  },
  {
   "cell_type": "code",
   "execution_count": 4,
   "metadata": {},
   "outputs": [
    {
     "name": "stdout",
     "output_type": "stream",
     "text": [
      "Exited!\n"
     ]
    }
   ],
   "source": [
    "url = 'http://www.nerdtests.com/mq/testimages/167138_4f49b66c0cb4a87cc906.jpg'\n",
    "arr = skimage.io.imread( url )\n",
    "rai = imglyb.to_imglib( arr )\n",
    "bdv = util.BdvFunctions.show( rai, 'argb' )\n",
    "bdv_exit_check( bdv.getBdvHandle().getViewerPanel() )"
   ]
  },
  {
   "cell_type": "code",
   "execution_count": 5,
   "metadata": {},
   "outputs": [
    {
     "name": "stdout",
     "output_type": "stream",
     "text": [
      "Exited!\n"
     ]
    }
   ],
   "source": [
    "rai = imglyb.to_imglib( np.transpose( arr, ( 2, 0, 1 ) ) )\n",
    "bdv = util.BdvFunctions.show( rai, 'argb', util.BdvOptions.options().is2D() )\n",
    "bdv_exit_check( bdv.getBdvHandle(). getViewerPanel() )"
   ]
  },
  {
   "cell_type": "markdown",
   "metadata": {},
   "source": [
    "## Pure Python Converter"
   ]
  },
  {
   "cell_type": "code",
   "execution_count": 6,
   "metadata": {
    "scrolled": false
   },
   "outputs": [
    {
     "name": "stdout",
     "output_type": "stream",
     "text": [
      "Runtime for converting every pixel: 22.50061784999707\n",
      "Image size: (282, 330, 3)\n"
     ]
    }
   ],
   "source": [
    "ARGBType = autoclass( 'net.imglib2.type.numeric.ARGBType' )\n",
    "\n",
    "class CompositeARGBConverter( PythonJavaClass ):\n",
    "    \n",
    "    __javainterfaces__ = [ 'net.imglib2.converter.Converter' ]\n",
    "    \n",
    "    def __init__( self ):\n",
    "        super( CompositeARGBConverter, self ).__init__()\n",
    "        \n",
    "    @java_method( '(Ljava/lang/Object;Ljava/lang/Object;)V' )\n",
    "    def convert( self, source, target ):\n",
    "        target.set( ARGBType.rgba( \n",
    "            source.get( 0 ).getInteger(), \n",
    "            source.get( 1 ).getInteger(), \n",
    "            source.get( 2 ).getInteger(),\n",
    "            255 ) )\n",
    "        \n",
    "       \n",
    "Converters = autoclass( 'net.imglib2.converter.Converters' )\n",
    "converter = CompositeARGBConverter()\n",
    "composite = util.Views.collapseReal( rai )\n",
    "view = Converters.convert( cast( 'net.imglib2.RandomAccessibleInterval', composite ), converter, ARGBType() )\n",
    "img = autoclass( 'net.imglib2.img.array.ArrayImgs' ).argbs( view.dimension( 0 ), view.dimension( 1 ) )\n",
    "\n",
    "start = timeit.default_timer()\n",
    "util.Helpers.burnIn( view, img )\n",
    "stop = timeit.default_timer()\n",
    "print( 'Runtime for converting every pixel:', stop - start )\n",
    "print( 'Image size:', arr.shape )"
   ]
  },
  {
   "cell_type": "markdown",
   "metadata": {},
   "source": [
    "## Pure Java Converter"
   ]
  },
  {
   "cell_type": "code",
   "execution_count": 7,
   "metadata": {},
   "outputs": [
    {
     "name": "stdout",
     "output_type": "stream",
     "text": [
      "/tmp/tmpjbb8onlw\n"
     ]
    }
   ],
   "source": [
    "converter_code = \"\"\"\n",
    "import net.imglib2.converter.Converter;\n",
    "import net.imglib2.type.numeric.ARGBType;\n",
    "import net.imglib2.type.numeric.integer.UnsignedByteType;\n",
    "import net.imglib2.view.composite.Composite;\n",
    "\n",
    "public class CompositeARGBTypeConverter< C extends Composite< UnsignedByteType > > implements Converter< C, ARGBType > {\n",
    "    \n",
    "    public void convert( C source, ARGBType target ) {\n",
    "        target.set( ARGBType.rgba( source.get( 0 ).get(), source.get( 1 ).get(), source.get( 2 ).get(), 255 ) );\n",
    "    }\n",
    "    \n",
    "}\n",
    "\"\"\"\n",
    "\n",
    "fp = pathlib.Path( tmp_dir ) / 'CompositeARGBTypeConverter.java'\n",
    "print( tmp_dir )\n",
    "with open( fp, 'w' ) as f:\n",
    "    f.write( converter_code )\n",
    "\n",
    "javac = pathlib.Path( os.environ[ 'JAVA_HOME' ] ) / 'bin' / 'javac'\n",
    "proc = subprocess.run( \n",
    "    [ javac, '-cp', jnius_config.split_char.join( jnius_config.get_classpath() ), fp ],\n",
    "    stdout=subprocess.PIPE,\n",
    "    stderr=subprocess.PIPE)\n",
    "if proc.returncode != 0:\n",
    "    print ( proc.stderr )"
   ]
  },
  {
   "cell_type": "code",
   "execution_count": 8,
   "metadata": {},
   "outputs": [
    {
     "name": "stdout",
     "output_type": "stream",
     "text": [
      "Runtime for converting every pixel: 0.030213366997486446\n",
      "Image size: (282, 330, 3)\n"
     ]
    }
   ],
   "source": [
    "Converters = autoclass( 'net.imglib2.converter.Converters' )\n",
    "converter = autoclass( 'CompositeARGBTypeConverter' )()\n",
    "composite = util.Views.collapseReal( rai )\n",
    "view = Converters.convert( cast( 'net.imglib2.RandomAccessibleInterval', composite ), converter, ARGBType() )\n",
    "img = autoclass( 'net.imglib2.img.array.ArrayImgs' ).argbs( view.dimension( 0 ), view.dimension( 1 ) )\n",
    "\n",
    "start = timeit.default_timer()\n",
    "util.Helpers.burnIn( view, img )\n",
    "stop = timeit.default_timer()\n",
    "print( 'Runtime for converting every pixel:', stop - start )\n",
    "print( 'Image size:', arr.shape )"
   ]
  },
  {
   "cell_type": "code",
   "execution_count": 9,
   "metadata": {},
   "outputs": [
    {
     "name": "stdout",
     "output_type": "stream",
     "text": [
      "Different exit message!\n"
     ]
    }
   ],
   "source": [
    "bdv = util.BdvFunctions.show( view, 'argb', util.BdvOptions.options().is2D() )\n",
    "bdv_exit_check( bdv.getBdvHandle().getViewerPanel(), lambda : print( 'Different exit message!' ) )"
   ]
  },
  {
   "cell_type": "code",
   "execution_count": 10,
   "metadata": {},
   "outputs": [
    {
     "name": "stdout",
     "output_type": "stream",
     "text": [
      "Exited!\n"
     ]
    }
   ],
   "source": [
    "path = '/home/phil/local/tmp/some-file.h5'\n",
    "with h5py.File( path, 'r' ) as f:\n",
    "    data = f['some/data'][ :300, :200, :100 ]\n",
    "argb = imglyb.to_imglib_argb( data )\n",
    "bdv = util.BdvFunctions.show( argb, 'argb' )\n",
    "bdv_exit_check( bdv.getBdvHandle().getViewerPanel() )"
   ]
  }
 ],
 "metadata": {
  "kernelspec": {
   "display_name": "Python 3",
   "language": "python",
   "name": "python3"
  },
  "language_info": {
   "codemirror_mode": {
    "name": "ipython",
    "version": 3
   },
   "file_extension": ".py",
   "mimetype": "text/x-python",
   "name": "python",
   "nbconvert_exporter": "python",
   "pygments_lexer": "ipython3",
   "version": "3.6.1"
  }
 },
 "nbformat": 4,
 "nbformat_minor": 2
}
